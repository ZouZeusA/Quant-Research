{
 "cells": [
  {
   "cell_type": "markdown",
   "id": "179da078-b4fc-416e-ab45-a137e60d0a6c",
   "metadata": {},
   "source": [
    "### Months and Day of the week"
   ]
  },
  {
   "cell_type": "code",
   "execution_count": 1,
   "id": "001b7a62-aca1-4bd5-b4bb-65dc0345d04b",
   "metadata": {},
   "outputs": [
    {
     "name": "stderr",
     "output_type": "stream",
     "text": [
      "[*********************100%%**********************]  5 of 5 completed\n"
     ]
    }
   ],
   "source": [
    "import yfinance as yf\n",
    "import pandas as pd \n",
    "import numpy as np\n",
    "import calendar\n",
    "\n",
    "# List of stock tickers\n",
    "tickers = ['AAPL', 'MSFT', 'AMZN', 'GOOG', 'TSLA']\n",
    "\n",
    "# Retrieve the stock data\n",
    "stocks = yf.download(tickers, start=\"2010-08-01\", end=\"2023-08-31\")['Adj Close']"
   ]
  },
  {
   "cell_type": "code",
   "execution_count": 2,
   "id": "0ccc86d5-01a6-45d2-8b9a-b10ebada380c",
   "metadata": {},
   "outputs": [],
   "source": [
    "stocks['TSLA_log_return'] = np.log(stocks['TSLA'].pct_change()+1)\n",
    "stocks['AAPL_log_return'] = np.log(stocks['AAPL'].pct_change()+1)"
   ]
  },
  {
   "cell_type": "code",
   "execution_count": 3,
   "id": "3180708e-31c8-412f-a4ec-4e9ffdaf9e1b",
   "metadata": {},
   "outputs": [],
   "source": [
    "stocks['MonthName'] = stocks.index.strftime('%B')\n",
    "stocks['MonthNum'] = pd.to_datetime(stocks.index).month\n",
    "stocks['DayofWeek'] = stocks.index.dayofweek"
   ]
  },
  {
   "cell_type": "markdown",
   "id": "63697e77-dd75-405d-9864-ec32ae5ea776",
   "metadata": {},
   "source": [
    "## Day of the Week Effect"
   ]
  },
  {
   "cell_type": "code",
   "execution_count": 4,
   "id": "f9e16d60-27e1-4a97-bc7e-c48b342a8313",
   "metadata": {},
   "outputs": [
    {
     "data": {
      "text/html": [
       "<div>\n",
       "<style scoped>\n",
       "    .dataframe tbody tr th:only-of-type {\n",
       "        vertical-align: middle;\n",
       "    }\n",
       "\n",
       "    .dataframe tbody tr th {\n",
       "        vertical-align: top;\n",
       "    }\n",
       "\n",
       "    .dataframe thead th {\n",
       "        text-align: right;\n",
       "    }\n",
       "</style>\n",
       "<table border=\"1\" class=\"dataframe\">\n",
       "  <thead>\n",
       "    <tr style=\"text-align: right;\">\n",
       "      <th>Ticker</th>\n",
       "      <th>TSLA_log_return</th>\n",
       "      <th>AAPL_log_return</th>\n",
       "    </tr>\n",
       "    <tr>\n",
       "      <th>DayofWeek</th>\n",
       "      <th></th>\n",
       "      <th></th>\n",
       "    </tr>\n",
       "  </thead>\n",
       "  <tbody>\n",
       "    <tr>\n",
       "      <th>0</th>\n",
       "      <td>0.461818</td>\n",
       "      <td>0.313371</td>\n",
       "    </tr>\n",
       "    <tr>\n",
       "      <th>1</th>\n",
       "      <td>0.304228</td>\n",
       "      <td>0.154581</td>\n",
       "    </tr>\n",
       "    <tr>\n",
       "      <th>2</th>\n",
       "      <td>0.056522</td>\n",
       "      <td>0.148714</td>\n",
       "    </tr>\n",
       "    <tr>\n",
       "      <th>3</th>\n",
       "      <td>0.059060</td>\n",
       "      <td>-0.060960</td>\n",
       "    </tr>\n",
       "    <tr>\n",
       "      <th>4</th>\n",
       "      <td>-0.069025</td>\n",
       "      <td>-0.061997</td>\n",
       "    </tr>\n",
       "  </tbody>\n",
       "</table>\n",
       "</div>"
      ],
      "text/plain": [
       "Ticker     TSLA_log_return  AAPL_log_return\n",
       "DayofWeek                                  \n",
       "0                 0.461818         0.313371\n",
       "1                 0.304228         0.154581\n",
       "2                 0.056522         0.148714\n",
       "3                 0.059060        -0.060960\n",
       "4                -0.069025        -0.061997"
      ]
     },
     "execution_count": 4,
     "metadata": {},
     "output_type": "execute_result"
    }
   ],
   "source": [
    "df_by_day = stocks.groupby('DayofWeek',observed=False)[['TSLA_log_return','AAPL_log_return']].mean()*100\n",
    "df_by_day"
   ]
  },
  {
   "cell_type": "markdown",
   "id": "26ed828e-ba14-457f-91cc-a8ed35045e27",
   "metadata": {},
   "source": [
    "## Monthly Effect"
   ]
  },
  {
   "cell_type": "code",
   "execution_count": 5,
   "id": "d2990fbe-9a27-4502-8bca-82a3e8f742a0",
   "metadata": {},
   "outputs": [
    {
     "data": {
      "text/html": [
       "<div>\n",
       "<style scoped>\n",
       "    .dataframe tbody tr th:only-of-type {\n",
       "        vertical-align: middle;\n",
       "    }\n",
       "\n",
       "    .dataframe tbody tr th {\n",
       "        vertical-align: top;\n",
       "    }\n",
       "\n",
       "    .dataframe thead th {\n",
       "        text-align: right;\n",
       "    }\n",
       "</style>\n",
       "<table border=\"1\" class=\"dataframe\">\n",
       "  <thead>\n",
       "    <tr style=\"text-align: right;\">\n",
       "      <th>Ticker</th>\n",
       "      <th>TSLA_log_return</th>\n",
       "      <th>AAPL_log_return</th>\n",
       "    </tr>\n",
       "    <tr>\n",
       "      <th>MonthName</th>\n",
       "      <th></th>\n",
       "      <th></th>\n",
       "    </tr>\n",
       "  </thead>\n",
       "  <tbody>\n",
       "    <tr>\n",
       "      <th>January</th>\n",
       "      <td>0.336113</td>\n",
       "      <td>0.041017</td>\n",
       "    </tr>\n",
       "    <tr>\n",
       "      <th>February</th>\n",
       "      <td>0.129901</td>\n",
       "      <td>0.134716</td>\n",
       "    </tr>\n",
       "    <tr>\n",
       "      <th>March</th>\n",
       "      <td>-0.008758</td>\n",
       "      <td>0.133052</td>\n",
       "    </tr>\n",
       "    <tr>\n",
       "      <th>April</th>\n",
       "      <td>0.198968</td>\n",
       "      <td>0.042085</td>\n",
       "    </tr>\n",
       "    <tr>\n",
       "      <th>May</th>\n",
       "      <td>0.147508</td>\n",
       "      <td>0.098841</td>\n",
       "    </tr>\n",
       "    <tr>\n",
       "      <th>June</th>\n",
       "      <td>0.427565</td>\n",
       "      <td>0.031247</td>\n",
       "    </tr>\n",
       "    <tr>\n",
       "      <th>July</th>\n",
       "      <td>0.183002</td>\n",
       "      <td>0.345763</td>\n",
       "    </tr>\n",
       "    <tr>\n",
       "      <th>August</th>\n",
       "      <td>0.204776</td>\n",
       "      <td>0.174202</td>\n",
       "    </tr>\n",
       "    <tr>\n",
       "      <th>September</th>\n",
       "      <td>-0.073721</td>\n",
       "      <td>-0.058996</td>\n",
       "    </tr>\n",
       "    <tr>\n",
       "      <th>October</th>\n",
       "      <td>0.139387</td>\n",
       "      <td>0.181779</td>\n",
       "    </tr>\n",
       "    <tr>\n",
       "      <th>November</th>\n",
       "      <td>0.332018</td>\n",
       "      <td>0.058635</td>\n",
       "    </tr>\n",
       "    <tr>\n",
       "      <th>December</th>\n",
       "      <td>-0.113039</td>\n",
       "      <td>-0.048341</td>\n",
       "    </tr>\n",
       "  </tbody>\n",
       "</table>\n",
       "</div>"
      ],
      "text/plain": [
       "Ticker     TSLA_log_return  AAPL_log_return\n",
       "MonthName                                  \n",
       "January           0.336113         0.041017\n",
       "February          0.129901         0.134716\n",
       "March            -0.008758         0.133052\n",
       "April             0.198968         0.042085\n",
       "May               0.147508         0.098841\n",
       "June              0.427565         0.031247\n",
       "July              0.183002         0.345763\n",
       "August            0.204776         0.174202\n",
       "September        -0.073721        -0.058996\n",
       "October           0.139387         0.181779\n",
       "November          0.332018         0.058635\n",
       "December         -0.113039        -0.048341"
      ]
     },
     "execution_count": 5,
     "metadata": {},
     "output_type": "execute_result"
    }
   ],
   "source": [
    "df_by_month = stocks.groupby('MonthName',observed=False)[['TSLA_log_return','AAPL_log_return']].mean()*100\n",
    "\n",
    "# Reindex the DataFrame to put the months in order\n",
    "month_order = [calendar.month_name[i] for i in range(1, 13)]\n",
    "df_by_month = df_by_month.reindex(month_order)\n",
    "df_by_month"
   ]
  },
  {
   "cell_type": "markdown",
   "id": "2e266aac-7aae-4e87-a21c-911539b75877",
   "metadata": {},
   "source": [
    "## Sell in May and go away"
   ]
  },
  {
   "cell_type": "code",
   "execution_count": 6,
   "id": "3bd5eeac-1f30-4c74-a16d-6c130377f2c5",
   "metadata": {},
   "outputs": [],
   "source": [
    "# Create a function to get the seasonality\n",
    "stocks['Seasonality'] = pd.cut(stocks['MonthNum'], bins=[-1, 4, 10], labels=['Nov_Apr', 'May_Oct'])\n",
    "# stocks['Seasonality1'] = np.where(np.logical_and(stocks['MonthNum'] >= 5, stocks['MonthNum'] <= 10), 'May_Oct', 'Nov_Apr')"
   ]
  },
  {
   "cell_type": "code",
   "execution_count": 7,
   "id": "5b3b4973-c3fe-4785-836c-68679baf7675",
   "metadata": {},
   "outputs": [
    {
     "data": {
      "text/html": [
       "<div>\n",
       "<style scoped>\n",
       "    .dataframe tbody tr th:only-of-type {\n",
       "        vertical-align: middle;\n",
       "    }\n",
       "\n",
       "    .dataframe tbody tr th {\n",
       "        vertical-align: top;\n",
       "    }\n",
       "\n",
       "    .dataframe thead th {\n",
       "        text-align: right;\n",
       "    }\n",
       "</style>\n",
       "<table border=\"1\" class=\"dataframe\">\n",
       "  <thead>\n",
       "    <tr style=\"text-align: right;\">\n",
       "      <th>Ticker</th>\n",
       "      <th>TSLA_log_return</th>\n",
       "      <th>AAPL_log_return</th>\n",
       "    </tr>\n",
       "    <tr>\n",
       "      <th>Seasonality</th>\n",
       "      <th></th>\n",
       "      <th></th>\n",
       "    </tr>\n",
       "  </thead>\n",
       "  <tbody>\n",
       "    <tr>\n",
       "      <th>Nov_Apr</th>\n",
       "      <td>0.160904</td>\n",
       "      <td>0.087907</td>\n",
       "    </tr>\n",
       "    <tr>\n",
       "      <th>May_Oct</th>\n",
       "      <td>0.173526</td>\n",
       "      <td>0.130643</td>\n",
       "    </tr>\n",
       "  </tbody>\n",
       "</table>\n",
       "</div>"
      ],
      "text/plain": [
       "Ticker       TSLA_log_return  AAPL_log_return\n",
       "Seasonality                                  \n",
       "Nov_Apr             0.160904         0.087907\n",
       "May_Oct             0.173526         0.130643"
      ]
     },
     "execution_count": 7,
     "metadata": {},
     "output_type": "execute_result"
    }
   ],
   "source": [
    "May_Seasonality = stocks.groupby('Seasonality',observed=False)[['TSLA_log_return','AAPL_log_return']].mean()*100\n",
    "May_Seasonality"
   ]
  }
 ],
 "metadata": {
  "kernelspec": {
   "display_name": "Python 3 (ipykernel)",
   "language": "python",
   "name": "python3"
  },
  "language_info": {
   "codemirror_mode": {
    "name": "ipython",
    "version": 3
   },
   "file_extension": ".py",
   "mimetype": "text/x-python",
   "name": "python",
   "nbconvert_exporter": "python",
   "pygments_lexer": "ipython3",
   "version": "3.10.13"
  }
 },
 "nbformat": 4,
 "nbformat_minor": 5
}

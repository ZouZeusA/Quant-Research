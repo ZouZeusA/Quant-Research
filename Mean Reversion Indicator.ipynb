{
 "cells": [
  {
   "cell_type": "markdown",
   "metadata": {},
   "source": [
    "# Quantitativo Substack mean reversion indicator\n",
    "\n",
    "Link: https://www.quantitativo.com/p/trading-the-mean-reversion-curve"
   ]
  },
  {
   "cell_type": "markdown",
   "metadata": {},
   "source": [
    "Features: How probable a price change (return) of X magnitude or more extreme is, in a window of N days, looking back at Y years from the date in question?\n",
    "\n",
    "Signal: Get the percentile of the 3-day price change on the given date if the 3-day price change is negative (or 100 minus the percentile if the N-day price change is positive). [5 years data]\n",
    "\n",
    "We divide this value by the area at the left of the zero in the histogram if the 3-day price change is negative (or at the right if it is positive) and multiply by 100.\n"
   ]
  },
  {
   "cell_type": "code",
   "execution_count": 1,
   "metadata": {},
   "outputs": [],
   "source": [
    "import pandas as pd\n",
    "import numpy as np\n",
    "import yfinance as yf\n",
    "import pandas_ta as ta\n",
    "from sklearn.feature_selection import mutual_info_regression\n",
    "from scipy.stats import entropy"
   ]
  },
  {
   "cell_type": "code",
   "execution_count": null,
   "metadata": {},
   "outputs": [
    {
     "name": "stderr",
     "output_type": "stream",
     "text": [
      "[*********************100%%**********************]  1 of 1 completed\n"
     ]
    }
   ],
   "source": [
    "stock_ticker = 'MSFT'\n",
    "\n",
    "stock_data = yf.download(stock_ticker, start='2014-10-01', end='2022-09-25')\n",
    "stock_data['LogReturn'] = np.log(stock_data['Close']).diff().dropna()"
   ]
  },
  {
   "cell_type": "code",
   "execution_count": 23,
   "metadata": {},
   "outputs": [],
   "source": [
    "stock_data['3Return'] = np.log(stock_data['Close']).diff(3)"
   ]
  },
  {
   "cell_type": "code",
   "execution_count": 3,
   "metadata": {},
   "outputs": [],
   "source": [
    "def MRIndicator(close: pd.Series, window: int=3 , lookback: int=1260) -> pd.Series:\n",
    "    \"\"\"\n",
    "    Calculate the Mean Reversion Indicator (MR) for a given closing price series.  \n",
    "\n",
    "    Parameters:\n",
    "        close (pd.Series): Series of closing prices.\n",
    "        window (int): Number of days for the price change window (default is 3).\n",
    "        lookback (int): Lookback window size for the histogram (default is 1260).\n",
    "    \n",
    "    Returns:\n",
    "        pd.Series: A series of MR probability values for each rolling lookback window.\n",
    "    \"\"\"\n",
    "    def calculate_mr_prob(rolling_close):\n",
    "        # Compute percentage changes for the window\n",
    "        returns = rolling_close.pct_change(window).dropna()\n",
    "        if len(returns) == 0:\n",
    "            return np.nan\n",
    "        \n",
    "        # Get the rank of each value\n",
    "        ranks = returns.rank()\n",
    "        # Calculate percent rank\n",
    "        percent_ranks = (ranks - 1) / (len(returns) - 1) * 100\n",
    "        \n",
    "        # Get the percent rank of a specific value (e.g., 20)\n",
    "        # percent_rank_of_value = percent_ranks[returns == returns[-1]].iloc[0]\n",
    "        \n",
    "        # Calculate the QP value based on the most recent return\n",
    "        recent_return = returns.iloc[-1]\n",
    "        \n",
    "        if recent_return <= 0:\n",
    "            # Count the number of negative returns within the lookback period\n",
    "            neg_returns_count = np.sum(returns.iloc[:lookback] <= 0)\n",
    "            total_count = len(returns.iloc[:lookback])\n",
    "            \n",
    "            # Area as the ratio of the count of negative returns to the total count\n",
    "            area_left_of_zero = neg_returns_count / total_count if total_count != 0 else 1.e-20\n",
    "            \n",
    "            # Normalize by dividing the percentile rank by the \"area\"\n",
    "            mr_prob = percent_ranks.iloc[-1] / area_left_of_zero\n",
    "        else:\n",
    "            # Count the number of positive returns within the lookback period\n",
    "            pos_returns_count = np.sum(returns.iloc[:lookback] > 0)\n",
    "            total_count = len(returns.iloc[:lookback])\n",
    "            \n",
    "            # Area as the ratio of the count of positive returns to the total count\n",
    "            area_right_of_zero = pos_returns_count / total_count if total_count != 0 else 1.e-20\n",
    "            \n",
    "            # Normalize by dividing by the \"area\"\n",
    "            mr_prob = (100 - percent_ranks.iloc[-1]) / area_right_of_zero\n",
    "        \n",
    "        return mr_prob\n",
    "\n",
    "    # Apply rolling with a custom function\n",
    "    mr_prob_series = close.rolling(window=lookback, min_periods=lookback).apply(\n",
    "        lambda x: calculate_mr_prob(x)\n",
    "    )\n",
    "    \n",
    "    return mr_prob_series"
   ]
  },
  {
   "cell_type": "code",
   "execution_count": 4,
   "metadata": {},
   "outputs": [],
   "source": [
    "mr_indicator = MRIndicator(stock_data[\"Close\"])\n",
    "stock_data[\"MR\"] = mr_indicator\n",
    "stock_data = stock_data.dropna()"
   ]
  },
  {
   "cell_type": "markdown",
   "metadata": {},
   "source": [
    "Short signals"
   ]
  },
  {
   "cell_type": "code",
   "execution_count": 24,
   "metadata": {},
   "outputs": [],
   "source": [
    "stock_data.loc[:,\"Short_Signal\"] = np.where((stock_data[\"MR\"] < 15.0) & (stock_data[\"3Return\"] < 0.), -1, 0)\n",
    "\n",
    "# Number of days after a signal to remain active\n",
    "exit_after_days = 5\n",
    "\n",
    "# Find indices where signal is -1\n",
    "short_signal_indices = np.where(stock_data[\"Short_Signal\"] == -1)[0]\n",
    "\n",
    "# Create a boolean array of the same size as signal_data\n",
    "adjusted_signal = np.zeros(len(stock_data[\"Short_Signal\"]), dtype=int)\n",
    "\n",
    "# Propagate the signal for the next `exit_after_days`\n",
    "for idx in short_signal_indices:\n",
    "    adjusted_signal[idx:idx + exit_after_days] = -1\n",
    "\n",
    "# Convert back to pandas Series\n",
    "short_signal_series = pd.Series(adjusted_signal, index=stock_data[\"Short_Signal\"].index)\n",
    "stock_data.loc[:,\"Short\"] = short_signal_series"
   ]
  },
  {
   "cell_type": "markdown",
   "metadata": {},
   "source": [
    "Long signals"
   ]
  },
  {
   "cell_type": "code",
   "execution_count": 25,
   "metadata": {},
   "outputs": [],
   "source": [
    "stock_data.loc[:,\"Long_Signal\"] = np.where((stock_data[\"MR\"] > 85.0) & (stock_data[\"3Return\"] > 0.), 1, 0 )\n",
    "\n",
    "# Find indices where signal is 1\n",
    "long_signal_indices = np.where(stock_data[\"Long_Signal\"] == 1)[0]\n",
    "\n",
    "# Create a boolean array of the same size as signal_data\n",
    "adjusted_signal = np.zeros(len(stock_data[\"Long_Signal\"]), dtype=int)\n",
    "\n",
    "# Propagate the signal for the next `exit_after_days`\n",
    "for idx in long_signal_indices:\n",
    "    adjusted_signal[idx:idx + exit_after_days] = 1\n",
    "\n",
    "# Convert back to pandas Series\n",
    "long_signal_series = pd.Series(adjusted_signal, index=stock_data[\"Long_Signal\"].index)\n",
    "stock_data.loc[:,\"Long\"] = long_signal_series"
   ]
  },
  {
   "cell_type": "code",
   "execution_count": 26,
   "metadata": {},
   "outputs": [
    {
     "data": {
      "text/plain": [
       "<Axes: xlabel='Date'>"
      ]
     },
     "execution_count": 26,
     "metadata": {},
     "output_type": "execute_result"
    },
    {
     "data": {
      "image/png": "[encoded data removed]",
      "text/plain": [
       "<Figure size 640x480 with 1 Axes>"
      ]
     },
     "metadata": {},
     "output_type": "display_data"
    }
   ],
   "source": [
    "stock_data.loc[:,\"LSReturn\"] = (stock_data[\"Long\"]+stock_data[\"Short\"])*stock_data['LogReturn']\n",
    "(np.exp((stock_data[\"LSReturn\"]).cumsum())-1).plot()"
   ]
  },
  {
   "cell_type": "markdown",
   "metadata": {},
   "source": [
    "# Indicator simple statistics"
   ]
  },
  {
   "cell_type": "code",
   "execution_count": 18,
   "metadata": {},
   "outputs": [],
   "source": [
    "def calculate_simple_statistics(indicator):\n",
    "    \"\"\"\n",
    "    Range/IQR: A unitless measure of data dispersion relative to its middle 50%.\n",
    "\n",
    "    Relative Entropy: Measures the difference between two probability distributions; \n",
    "    a value of zero indicates identical distributions.\n",
    "    \"\"\"\n",
    "    # Ncases\n",
    "    ncases = len(indicator)\n",
    "    # Mean\n",
    "    mean = np.mean(indicator)\n",
    "    # Min/Max\n",
    "    min_val, max_val = np.min(indicator), np.max(indicator)\n",
    "    # IQR\n",
    "    q75, q25 = np.percentile(indicator, [75, 25])\n",
    "    iqr = q75 - q25\n",
    "    # Range/IQR\n",
    "    range_iqr = (max_val - min_val) / iqr if iqr != 0 else np.nan\n",
    "    # Relative Entropy\n",
    "    hist, bin_edges = np.histogram(indicator, bins=50, density=True)\n",
    "    uniform_dist = np.ones_like(hist) / len(hist)\n",
    "    relative_entropy = entropy(hist, uniform_dist)\n",
    "    \n",
    "    return {\n",
    "        \"Ncases\": ncases,\n",
    "        \"Mean\": mean,\n",
    "        \"Min\": min_val,\n",
    "        \"Max\": max_val,\n",
    "        \"IQR\": iqr,\n",
    "        \"Range/IQR\": range_iqr,\n",
    "        \"Relative Entropy\": relative_entropy,\n",
    "    }\n",
    "\n"
   ]
  },
  {
   "cell_type": "markdown",
   "metadata": {},
   "source": [
    "# Mutual Information Report"
   ]
  },
  {
   "cell_type": "code",
   "execution_count": 19,
   "metadata": {},
   "outputs": [],
   "source": [
    "def calculate_mutual_information(indicator, target, n_permutations=100):\n",
    "    \"\"\"\n",
    "    High MI scores indicate a strong relationship between the indicator and the target variable, \n",
    "    suggesting potential predictive power.\n",
    "    \"\"\"\n",
    "    # Mutual Information Score\n",
    "    mi_score = mutual_info_regression(indicator.reshape(-1, 1), target)[0]\n",
    "    \n",
    "    # Permutations\n",
    "    permuted_scores = []\n",
    "    for _ in range(n_permutations):\n",
    "        permuted_target = np.random.permutation(target)\n",
    "        permuted_score = mutual_info_regression(indicator.reshape(-1, 1), permuted_target)[0]\n",
    "        permuted_scores.append(permuted_score)\n",
    "    \n",
    "    # Solo p-value\n",
    "    solo_p_value = np.sum(np.array(permuted_scores) >= mi_score) / n_permutations\n",
    "    # Unbiased p-value\n",
    "    unbiased_p_value = (np.sum(np.array(permuted_scores) >= mi_score) + 1) / (n_permutations + 1)\n",
    "    \n",
    "    return {\n",
    "        \"MI Score\": mi_score,\n",
    "        \"Solo p-value\": solo_p_value,\n",
    "        \"Unbiased p-value\": unbiased_p_value,\n",
    "    }"
   ]
  },
  {
   "cell_type": "markdown",
   "metadata": {},
   "source": [
    "# Serial Correlated Mean Break Test Report"
   ]
  },
  {
   "cell_type": "code",
   "execution_count": 20,
   "metadata": {},
   "outputs": [],
   "source": [
    "def calculate_serial_mean_break(indicator, nrecent):\n",
    "    \"\"\"\n",
    "    The Serial Correlated Mean Break Test Report identifies potential breaks in the mean of each trading indicator, \n",
    "    taking into account serial correlation. This test helps detect significant shifts in the mean over time, \n",
    "    indicating nonstationary behavior in the data.\n",
    "\n",
    "    Parameters:\n",
    "    nrecent: User-specified number of recent observations.\n",
    "\n",
    "    Return:\n",
    "    z(U): Maximum break in the mean. For each potential split point, calculate the difference in means \n",
    "          of the two segments and identify the maximum.\n",
    "    Solo p-value: Measure significance using permutations or analytical methods (e.g., Chow Test).\n",
    "    Unbiased p-value: Similar adjustment to the Mutual Information Report's unbiased p-value.\n",
    "    \"\"\"\n",
    "    z_values = []\n",
    "    for split_point in range(1, len(indicator) - nrecent):\n",
    "        mean1 = np.mean(indicator[:split_point])\n",
    "        mean2 = np.mean(indicator[split_point:])\n",
    "        z_values.append(np.abs(mean1 - mean2))\n",
    "    z_u = max(z_values)\n",
    "    \n",
    "    # Permutation testing for p-values\n",
    "    n_permutations = 100\n",
    "    permuted_z = []\n",
    "    for _ in range(n_permutations):\n",
    "        permuted_indicator = np.random.permutation(indicator)\n",
    "        permuted_z_values = [\n",
    "            np.abs(np.mean(permuted_indicator[:split]) - np.mean(permuted_indicator[split:]))\n",
    "            for split in range(1, len(indicator) - nrecent)\n",
    "        ]\n",
    "        permuted_z.append(max(permuted_z_values))\n",
    "    \n",
    "    solo_p_value = np.sum(np.array(permuted_z) >= z_u) / n_permutations\n",
    "    unbiased_p_value = (np.sum(np.array(permuted_z) >= z_u) + 1) / (n_permutations + 1)\n",
    "    \n",
    "    return {\n",
    "        \"z(U)\": z_u,\n",
    "        \"Solo p-value\": solo_p_value,\n",
    "        \"Unbiased p-value\": unbiased_p_value,\n",
    "    }"
   ]
  },
  {
   "cell_type": "code",
   "execution_count": 22,
   "metadata": {},
   "outputs": [
    {
     "name": "stdout",
     "output_type": "stream",
     "text": [
      "Simple Statistics Report: {'Ncases': 751, 'Mean': 42.5657177612547, 'Min': 0.0, 'Max': 99.4229274286574, 'IQR': 51.322056523253146, 'Range/IQR': 1.93723584290919, 'Relative Entropy': 0.06301399735793668}\n",
      "Mutual Information Report: {'MI Score': 0.11450275903991969, 'Solo p-value': 0.0, 'Unbiased p-value': 0.009900990099009901}\n",
      "Serial Mean Break Test Report: {'z(U)': 16.38836832309189, 'Solo p-value': 0.81, 'Unbiased p-value': 0.8118811881188119}\n"
     ]
    }
   ],
   "source": [
    "simple_stats = calculate_simple_statistics(mr_indicator.dropna())\n",
    "# Target variable is the return\n",
    "target = stock_data[\"Close\"].loc[mr_indicator.dropna().index].pct_change().dropna()\n",
    "mutual_info = calculate_mutual_information(mr_indicator.dropna().values[1:], target)\n",
    "mean_break = calculate_serial_mean_break(mr_indicator.dropna().values, nrecent=25)\n",
    "\n",
    "print(\"Simple Statistics Report:\", simple_stats)\n",
    "print(\"Mutual Information Report:\", mutual_info)\n",
    "print(\"Serial Mean Break Test Report:\", mean_break)"
   ]
  }
 ],
 "metadata": {
  "kernelspec": {
   "display_name": "base",
   "language": "python",
   "name": "python3"
  },
  "language_info": {
   "codemirror_mode": {
    "name": "ipython",
    "version": 3
   },
   "file_extension": ".py",
   "mimetype": "text/x-python",
   "name": "python",
   "nbconvert_exporter": "python",
   "pygments_lexer": "ipython3",
   "version": "3.10.13"
  }
 },
 "nbformat": 4,
 "nbformat_minor": 2
}

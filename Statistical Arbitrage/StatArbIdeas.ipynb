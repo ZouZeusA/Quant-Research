{
 "cells": [
  {
   "cell_type": "markdown",
   "metadata": {},
   "source": [
    "Backtrader Pairs trading example: https://nbviewer.org/github/polakowo/vectorbt/blob/master/examples/PairsTrading.ipynb\n",
    "\n",
    "Pairs trading example: https://github.com/paperswithbacktest/awesome-systematic-trading/blob/main/static/strategies/pairs-trading-with-stocks\n",
    "\n",
    "PCA Statistical Arbitrage:\n",
    "1. https://github.com/rodler/quantinsti_statarb/blob/master/PCA_StatArb.ipynb\n",
    "2. https://github.com/rodler/quantinsti_statarb/blob/master/PCA_2.ipynb\n",
    "3. https://github.com/rodler/quantinsti_statarb/blob/master/PCA_3.ipynb"
   ]
  }
 ],
 "metadata": {
  "language_info": {
   "name": "python"
  }
 },
 "nbformat": 4,
 "nbformat_minor": 2
}

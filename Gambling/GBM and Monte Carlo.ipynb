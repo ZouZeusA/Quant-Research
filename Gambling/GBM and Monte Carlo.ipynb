{
 "cells": [
  {
   "cell_type": "markdown",
   "id": "7d64584e-ff13-4d02-8c8d-d081d5eff511",
   "metadata": {},
   "source": [
    "# Monte Carlo Simulation "
   ]
  },
  {
   "attachments": {},
   "cell_type": "markdown",
   "id": "ffe111d2-c04f-4789-9eb2-4eadfddf2384",
   "metadata": {},
   "source": [
    "The simulations can model the different outcomes (finding the probability distribution of an experiment using random sampling) of a random process if they had taken a different path or sequence.\n",
    "\n",
    "A Monte Carlo simulation takes the variable that has uncertainty and assigns it a random value. The model is then run and a result is provided. This process is repeated again and again while assigning many different values to the variable in question. "
   ]
  },
  {
   "cell_type": "markdown",
   "id": "7d0ffc14-6a3b-4c2f-9f09-2de2bfc078d8",
   "metadata": {},
   "source": [
    "1. Testing for different values of factors that influence asset prices, we could obtain a good idea about the possible prices of the asset using a function that represents the development of the asset price."
   ]
  },
  {
   "attachments": {},
   "cell_type": "markdown",
   "id": "9ea0934e-7ab7-4541-9167-b05975243a0b",
   "metadata": {},
   "source": [
    "2. By Monte Carlo simulation in trading you get a better understanding of the risk and uncertainty of your trading strategy because Monte Carlo simulation lets you run your backtest thousands of times in different orders thus generating multiple equity curves.\n",
    "\n",
    "It simply shows how liable to chance and randomness your trading strategy is. What might the future bring when you start trading live? The Monte Carlo simulation takes your trades and reshuffles the trade order to check different paths."
   ]
  },
  {
   "cell_type": "markdown",
   "id": "a186567f-8060-4984-ad66-dbf14cdb6551",
   "metadata": {},
   "source": [
    "## Roulette Wheel"
   ]
  },
  {
   "cell_type": "code",
   "execution_count": 13,
   "id": "177cd921-8dee-4ffd-ba2c-1357c5831d71",
   "metadata": {},
   "outputs": [
    {
     "name": "stdout",
     "output_type": "stream",
     "text": [
      "\n",
      "Simulate 20 trials of 1000 spins each\n",
      "Exp. return for Fair Roulette = 6.56%\n",
      "Exp. return for European Roulette = -2.26%\n",
      "Exp. return for American Roulette = -8.92%\n",
      "\n",
      "Simulate 20 trials of 10000 spins each\n",
      "Exp. return for Fair Roulette = -1.234%\n",
      "Exp. return for European Roulette = -4.168%\n",
      "Exp. return for American Roulette = -5.752%\n",
      "\n",
      "Simulate 20 trials of 100000 spins each\n",
      "Exp. return for Fair Roulette = 0.8144%\n",
      "Exp. return for European Roulette = -2.6506%\n",
      "Exp. return for American Roulette = -5.113%\n",
      "\n",
      "Simulate 20 trials of 1000000 spins each\n",
      "Exp. return for Fair Roulette = -0.0723%\n",
      "Exp. return for European Roulette = -2.7329%\n",
      "Exp. return for American Roulette = -5.212%\n"
     ]
    }
   ],
   "source": [
    "import random\n",
    "\n",
    "class FairRoulette():\n",
    "    \n",
    "\tdef __init__(self):\n",
    "\t\tself.pockets = []\n",
    "\t\tfor i in range(1,37):\n",
    "\t\t\tself.pockets.append(i)\n",
    "\t\tself.ball = None\n",
    "        # A single bet on a number in roulette is a 'straight up' bet, and it offers high payout 35:1.\n",
    "\t\tself.pocketOdds = len(self.pockets) - 1\n",
    "        \n",
    "\tdef spin(self):\n",
    "\t\tself.ball = random.choice(self.pockets)\n",
    "        \n",
    "\tdef betPocket(self, pocket, amt):\n",
    "\t\tif str(pocket) == str(self.ball):\n",
    "\t\t\treturn amt*self.pocketOdds\n",
    "\t\telse: return -amt\n",
    "\n",
    "\tdef __str__(self):\n",
    "\t\treturn 'Fair Roulette'\n",
    "\n",
    "def playRoulette(game, numSpins, pocket, bet, toPrint):\n",
    "    totPocket = 0\n",
    "    for i in range(numSpins):\n",
    "        game.spin()\n",
    "        totPocket += game.betPocket(pocket, bet)\n",
    "    if toPrint:\n",
    "        print(numSpins, 'spins of', game)\n",
    "        print('Expected return betting', pocket, '=',\\\n",
    "            str(100*totPocket/numSpins) + '%\\n')\n",
    "    return (totPocket/numSpins)\n",
    "\n",
    "class EuRoulette(FairRoulette):\n",
    "\n",
    "\tdef __init__(self):\n",
    "\t\tFairRoulette.__init__(self)\n",
    "\t\tself.pockets.append('0')\n",
    "\n",
    "\tdef __str__(self):\n",
    "\t\treturn 'European Roulette'\n",
    "\n",
    "class AmRoulette(EuRoulette):\n",
    "\n",
    "\tdef __init__(self):\n",
    "\t\tEuRoulette.__init__(self)\n",
    "\t\tself.pockets.append('00')\n",
    "\n",
    "\tdef __str__(self):\n",
    "\t\treturn 'American Roulette'\n",
    "\n",
    "# game = AmRoulette()\n",
    "# for numSpins in (10, 100000):\n",
    "# \tfor i in range(3):\n",
    "# \t\tplayRoulette(game, numSpins, 2, 1, True)\n",
    "\n",
    "def findPocketReturn(game, numTrials, trialSize, toPrint):\n",
    "    pocketReturns = []\n",
    "    for t in range(numTrials):\n",
    "        trialVals = playRoulette(game, trialSize, 2, 1, toPrint)\n",
    "        pocketReturns.append(trialVals)\n",
    "    return pocketReturns\n",
    "\n",
    "random.seed(0)\n",
    "numTrials = 20\n",
    "resultDict = {}\n",
    "games = (FairRoulette, EuRoulette, AmRoulette)\n",
    "for G in games:\n",
    "    resultDict[G().__str__()] = []\n",
    "for numSpins in (1000, 10000, 100000, 1000000):\n",
    "    print('\\nSimulate', numTrials, 'trials of',\n",
    "          numSpins, 'spins each')\n",
    "    for G in games:\n",
    "        pocketReturns = findPocketReturn(G(), numTrials,\n",
    "                                         numSpins, False)\n",
    "        expReturn = 100*sum(pocketReturns)/len(pocketReturns)\n",
    "        print('Exp. return for', G(), '=',\n",
    "             str(round(expReturn, 4)) + '%')\n",
    "             \n",
    "def getMeanAndStd(X):\n",
    "    mean = sum(X)/float(len(X))\n",
    "    tot = 0.0\n",
    "    for x in X:\n",
    "        tot += (x - mean)**2\n",
    "    std = (tot/len(X))**0.5\n",
    "    return mean, std\n"
   ]
  },
  {
   "cell_type": "markdown",
   "id": "749faf77-6ab9-45c6-9a37-154af1a6eabc",
   "metadata": {},
   "source": [
    "### Gambler's Fallacy"
   ]
  },
  {
   "cell_type": "markdown",
   "id": "e8a9a880-4f97-4374-b6a1-e786cb43945f",
   "metadata": {},
   "source": [
    "\"On August 18, 1913, at the casino in Monte Carlo, black came up a record twenty-six times in succession [in roulette]. [There] was a near-panicky rush to bet on red, beginning about the time black had come up a phenomenal fifteen times.\" -- Huff and Geis, *How to Take a Chance*\n",
    "\n",
    "~Probability of 26 consecutive reds: 1/67,108,645. \\\n",
    "~Probability of 26 consecutive reds when previous 25 rolls were red is 1/2.\n",
    "\n",
    "**Monte Carlo fallacy**: If an event has occurred more frequently than expected, it is less likely to happen again in the future."
   ]
  },
  {
   "cell_type": "markdown",
   "id": "4aaf5a3a-0876-4d97-8ee4-3dcddc4ebe9b",
   "metadata": {},
   "source": [
    "### Regression to the mean"
   ]
  },
  {
   "cell_type": "markdown",
   "id": "9fe14aec-ce8a-4b5d-8d91-66c3192ae604",
   "metadata": {},
   "source": [
    "Coined in 1885 by Francis Galt in his paper summarized by: If somebody's parents are both taller than average, it's likely that the child will be smaller than the parents. Conversely, if the parents are shorter than average, it's likely that the child will be taller than average.\n",
    "\n",
    "\"Following an extreme random event, the next random event is likely to be less extreme.\" \\\n",
    "If you spin a fair roulette wheel 10 times and get 100% reds, that is an extreme event (probability = 1/1024). lt is likely that in the next 10 spins, you will get fewer than 10 reds, but the expected number is 5."
   ]
  },
  {
   "cell_type": "markdown",
   "id": "77c2db0f-949d-415d-b0c0-770060ae0a7b",
   "metadata": {},
   "source": [
    "## Simple example of Buffon-Laplace Method"
   ]
  },
  {
   "cell_type": "code",
   "execution_count": 9,
   "id": "bcef0c0d-dded-4f15-850c-c6dc2bab5267",
   "metadata": {},
   "outputs": [
    {
     "name": "stdout",
     "output_type": "stream",
     "text": [
      "Est. = 3.1516, Std. dev. = 0.058811, Points = 1000\n",
      "Est. = 3.1376599999999994, Std. dev. = 0.03785, Points = 2000\n",
      "Est. = 3.1413399999999996, Std. dev. = 0.026066, Points = 4000\n",
      "Est. = 3.1433300000000015, Std. dev. = 0.017334, Points = 8000\n",
      "Est. = 3.141525000000002, Std. dev. = 0.012978, Points = 16000\n",
      "Est. = 3.1425887500000003, Std. dev. = 0.010184, Points = 32000\n",
      "Est. = 3.143143125000001, Std. dev. = 0.006417, Points = 64000\n",
      "Est. = 3.1407181250000002, Std. dev. = 0.00445, Points = 128000\n",
      "Estimated value of π: 3.1407181250000002 with precision: 0.005\n"
     ]
    }
   ],
   "source": [
    "import random\n",
    "import scipy.stats as stats\n",
    "\n",
    "def estimate_pi(num_points):\n",
    "    points_inside_circle = 0\n",
    "    points_total = 0\n",
    "\n",
    "    for _ in range(num_points):\n",
    "        x = random.uniform(0, 1)\n",
    "        y = random.uniform(0, 1)\n",
    "        distance = x**2 + y**2\n",
    "\n",
    "        if distance <= 1:\n",
    "            points_inside_circle += 1\n",
    "\n",
    "        points_total += 1\n",
    "\n",
    "    pi_estimate = 4 * (points_inside_circle / points_total)\n",
    "    return pi_estimate\n",
    "\n",
    "def getEst(num_points, numTrials): \n",
    "    estimates = [] \n",
    "    for t in range(numTrials): \n",
    "        piGuess = estimate_pi(num_points) \n",
    "        estimates.append(piGuess) \n",
    "    sDev = stats.tstd(estimates) \n",
    "    curEst = sum(estimates)/len(estimates) \n",
    "    print('Est. = ' + str(curEst) +  \n",
    "          ', Std. dev. = ' + str(round(sDev, 6)) + \n",
    "          ', Points = ' + str(num_points)) \n",
    "    return (curEst, sDev)\n",
    "\n",
    "def estPi(precision, numTrials): \n",
    "    num_points = 1000 \n",
    "    sDev = precision \n",
    "    while sDev >= precision: \n",
    "        curEst, sDev = getEst(num_points, numTrials) \n",
    "        num_points *= 2 \n",
    "    # Print the estimated value of π\n",
    "    print(\"Estimated value of π:\", curEst, \"with precision:\",precision) \n",
    "\n",
    "# Run the Monte Carlo simulation\n",
    "numTrials = 100\n",
    "precision = 0.005\n",
    "estPi(precision, numTrials)"
   ]
  },
  {
   "cell_type": "markdown",
   "id": "a7f04a59-eb0f-4c3f-8122-d5510faba275",
   "metadata": {},
   "source": [
    "## Simulating investment portfolio growth"
   ]
  },
  {
   "cell_type": "code",
   "execution_count": null,
   "id": "476c943e-9528-44eb-986e-f6a1c91eda32",
   "metadata": {},
   "outputs": [],
   "source": [
    "import numpy as np\n",
    "import matplotlib.pyplot as plt\n",
    "\n",
    "def monte_carlo_simulation(principal, annual_return, volatility, num_years, num_simulations):\n",
    "    investment_values = []\n",
    "\n",
    "    for _ in range(num_simulations):\n",
    "        values = [principal]\n",
    "        for _ in range(num_years):\n",
    "            growth_rate = np.random.normal(annual_return, volatility)\n",
    "            investment_value = values[-1] * (1 + growth_rate)\n",
    "            values.append(investment_value)\n",
    "            \n",
    "        investment_values.append(values)\n",
    "\n",
    "    return investment_values\n",
    "\n",
    "# Set the simulation parameters\n",
    "initial_principal = 100000  # Initial investment principal\n",
    "annual_return = 0.03       # Expected annual return (mean)\n",
    "volatility = 0.35         # Volatility of returns (standard deviation)\n",
    "years = 40                # Number of years to simulate\n",
    "simulations = 100        # Number of simulations\n",
    "\n",
    "# Run the Monte Carlo simulation\n",
    "simulation_results = monte_carlo_simulation(initial_principal, annual_return, volatility, years, simulations)\n",
    "\n",
    "# Get the final values from each simulation\n",
    "final_values = [values[-1] for values in simulation_results]\n",
    "\n",
    "# Calculate the mean and standard deviation of the final values\n",
    "mean_final_value = np.mean(final_values)\n",
    "std_final_value = np.std(final_values)\n",
    "\n",
    "# Print the results\n",
    "print(\"Mean final value:\", mean_final_value)\n",
    "print(\"Standard deviation of final value:\", std_final_value)\n",
    "\n",
    "# Plot the investment values for each simulation\n",
    "plt.figure(figsize=(10, 6))\n",
    "for values in simulation_results:\n",
    "    plt.plot(range(years + 1), values) #[value / initial_principal for value in values]\n",
    "\n",
    "plt.xlabel('Years')\n",
    "plt.ylabel('Investment Value')\n",
    "plt.title('Monte Carlo Simulation - Investment Portfolio')\n",
    "plt.grid(True)\n",
    "plt.show()\n",
    "\n",
    "# Define the bust threshold\n",
    "bust_threshold = 0\n",
    "\n",
    "# Check which investments went bust\n",
    "bust_investments = []\n",
    "for i, values in enumerate(simulation_results):\n",
    "    final_value = values[-1]\n",
    "    if final_value <= bust_threshold:\n",
    "        bust_investments.append(i)\n",
    "\n",
    "# Print the investments that went bust\n",
    "print(\"Investments that went bust:\", bust_investments)"
   ]
  },
  {
   "cell_type": "markdown",
   "id": "9787dd4e-06fb-47fb-bfdc-6a3c005b8903",
   "metadata": {},
   "source": [
    "## Simulating stock prices using Geometric Brownian Motion and the Monte Carlo method"
   ]
  },
  {
   "cell_type": "markdown",
   "id": "5326357c-468f-478a-9c33-55bb2de917e7",
   "metadata": {},
   "source": [
    "### Black-Scholes financial asset model"
   ]
  },
  {
   "cell_type": "markdown",
   "id": "e90c559d-26c6-4cee-9a84-26104e75bbf1",
   "metadata": {},
   "source": [
    "An asset's price movement consists of two main factors: drift, which represents its consistent directional change, and a random component, which captures market volatility that computed based on historical price data."
   ]
  },
  {
   "cell_type": "code",
   "execution_count": null,
   "id": "1bf72a53-57a6-4a58-938e-4c6f51f24985",
   "metadata": {},
   "outputs": [],
   "source": [
    "import numpy as np\n",
    "import pandas as pd\n",
    "import matplotlib.pyplot as plt\n",
    "import yfinance as yf\n",
    "from scipy.stats import norm"
   ]
  },
  {
   "cell_type": "code",
   "execution_count": null,
   "id": "5c92c5c0-ac4c-495f-870a-b17007147c15",
   "metadata": {},
   "outputs": [],
   "source": [
    "daily_asset_adjclose = pd.DataFrame(yf.download('JPM')['Adj Close'])"
   ]
  },
  {
   "cell_type": "code",
   "execution_count": null,
   "id": "ebaa96ea-c0f7-435b-ace6-99f3a5adfb95",
   "metadata": {},
   "outputs": [],
   "source": [
    "log_returns = np.log(1+daily_asset_adjclose.pct_change())"
   ]
  },
  {
   "cell_type": "markdown",
   "id": "0e51bb58-24fe-4204-97ff-30ca6fbd78e9",
   "metadata": {},
   "source": [
    "Obtain the average daily return, variance and standard deviation to calculate drift = mean - variance*0.5"
   ]
  },
  {
   "cell_type": "code",
   "execution_count": null,
   "id": "2431b0d3-9ea1-413f-a01a-b303e5020072",
   "metadata": {},
   "outputs": [],
   "source": [
    "mean = log_returns.mean()\n",
    "variance = log_returns.var()\n",
    "standard_deviation = log_returns.std()"
   ]
  },
  {
   "cell_type": "code",
   "execution_count": null,
   "id": "11d579ae-5468-4434-8abf-e2a1128f8c8e",
   "metadata": {},
   "outputs": [],
   "source": [
    "drift = mean - variance/2"
   ]
  },
  {
   "cell_type": "code",
   "execution_count": null,
   "id": "b1c3eddc-6c3d-4c4d-baac-79837f12e29c",
   "metadata": {},
   "outputs": [],
   "source": [
    "def monte_carlo_simulation(adjclose, drift, stdev, days, trials):\n",
    "    normal_rv = norm.ppf(np.random.rand(days, trials))\n",
    "    daily_returns = np.exp(np.array(drift) + (np.array(stdev) * normal_rv))\n",
    "    price_paths = np.zeros_like(daily_returns)\n",
    "    \n",
    "    price_paths[0] = adjclose.iloc[-1, 0]\n",
    "    for t in range(1, days):\n",
    "        price_paths[t] = price_paths[t-1] * daily_returns[t]\n",
    "\n",
    "    return price_paths"
   ]
  },
  {
   "cell_type": "code",
   "execution_count": null,
   "id": "96745d02-d15f-4db1-8e49-3d478ebb69b4",
   "metadata": {},
   "outputs": [],
   "source": [
    "# Set the parameters\n",
    "days = 40\n",
    "trials = 150\n",
    "\n",
    "# Run the Monte Carlo simulation\n",
    "simulation_results = monte_carlo_simulation(daily_asset_adjclose, drift, standard_deviation, days, trials)\n",
    "\n",
    "plt.figure(figsize=(12,8))\n",
    "plt.plot(simulation_results)\n",
    "plt.xlabel('Days')\n",
    "plt.ylabel('Price Action Paths')\n",
    "plt.title('Monte Carlo Simulation - Geometric Brownian Motion')\n",
    "plt.grid(True)\n",
    "plt.show()"
   ]
  }
 ],
 "metadata": {
  "kernelspec": {
   "display_name": "Python 3 (ipykernel)",
   "language": "python",
   "name": "python3"
  },
  "language_info": {
   "codemirror_mode": {
    "name": "ipython",
    "version": 3
   },
   "file_extension": ".py",
   "mimetype": "text/x-python",
   "name": "python",
   "nbconvert_exporter": "python",
   "pygments_lexer": "ipython3",
   "version": "3.10.13"
  }
 },
 "nbformat": 4,
 "nbformat_minor": 5
}

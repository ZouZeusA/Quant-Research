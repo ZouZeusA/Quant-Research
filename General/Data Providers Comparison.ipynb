{
 "cells": [
  {
   "cell_type": "code",
   "execution_count": null,
   "id": "b5fb2fd4-3d39-415b-95f9-a13f325a2821",
   "metadata": {},
   "outputs": [],
   "source": [
    "import pandas as pd\n",
    "import matplotlib.pyplot as plt"
   ]
  },
  {
   "cell_type": "markdown",
   "id": "3e648905-899c-47a4-987b-294cb75350ec",
   "metadata": {},
   "source": [
    "ІВАрі\n",
    "Tiingo\n",
    "Tradier \n",
    "Alpaca\n",
    "Finnhub \n",
    "yfinance\n",
    "simfin\n",
    "Polygon.io\n",
    "Theta Data \n",
    "marketstack\n",
    "Twelve Data\n",
    "Alpha Vantage\n",
    "Nasdaq Data Link"
   ]
  },
  {
   "cell_type": "code",
   "execution_count": null,
   "id": "a5d51290-2ef8-41d5-82d2-59fc5768e0c2",
   "metadata": {},
   "outputs": [],
   "source": [
    "ticker = 'MSFT'\n",
    "start_date = '2010-01-01'\n",
    "end_date = '2018-03-27'"
   ]
  },
  {
   "cell_type": "markdown",
   "id": "b38ac6b2-af0f-4cf2-8acd-66686e4f32c9",
   "metadata": {},
   "source": [
    "### NASDAQ Quandl"
   ]
  },
  {
   "cell_type": "code",
   "execution_count": null,
   "id": "dd4ccfe4-82a9-4fed-b3f2-b8fe0cfa86b2",
   "metadata": {},
   "outputs": [],
   "source": [
    "import nasdaqdatalink as q\n",
    "# set the API key\n",
    "q.ApiConfig.api_key = \"jsxy8zENXnPx9xpYeqKk\"\n",
    "\n",
    "q_data = q.get(f\"WIKI/{ticker}\", start_date=start_date, end_date=end_date)"
   ]
  },
  {
   "cell_type": "markdown",
   "id": "31177047-910f-4b65-9346-9f12113fd631",
   "metadata": {},
   "source": [
    "### YAHOO Finance"
   ]
  },
  {
   "cell_type": "code",
   "execution_count": null,
   "id": "8e0a10ae-a83a-46fd-a8dc-986378fc5a7c",
   "metadata": {},
   "outputs": [],
   "source": [
    "import yfinance as yf\n",
    "\n",
    "yf_data = yf.download(ticker, start=start_date, end=end_date)"
   ]
  },
  {
   "cell_type": "markdown",
   "id": "79e4764b-1616-4f6a-991f-e5cf082dad6b",
   "metadata": {},
   "source": [
    "### ALPHA Vantage"
   ]
  },
  {
   "cell_type": "code",
   "execution_count": null,
   "id": "50b31aeb-bd63-426a-a85b-2d743344377d",
   "metadata": {},
   "outputs": [],
   "source": [
    "from alpha_vantage.timeseries import TimeSeries\n",
    "ts = TimeSeries(key = 'H4TO5COBE7GKM89N', output_format='pandas')\n",
    "av_data, meta_data = ts.get_daily(symbol=ticker,outputsize='full')\n",
    "av_data = av_data.sort_index().loc[start_date:end_date]\n",
    "av_data = av_data.set_axis(['Open', 'High', 'Low', 'Close', 'Volume'], axis=1)"
   ]
  },
  {
   "cell_type": "markdown",
   "id": "2ba3527b-c6c2-4406-8f4a-a2ebfdda5a10",
   "metadata": {},
   "source": [
    "## Comparison of Multiple Datasets"
   ]
  },
  {
   "cell_type": "code",
   "execution_count": null,
   "id": "4423a8b3-6cee-43d5-8b1b-b6244ef53b78",
   "metadata": {},
   "outputs": [],
   "source": [
    "q_daily_open = q_data[['Open']]\n",
    "yf_daily_open = yf_data[['Open']]\n",
    "av_daily_open = av_data[['Open']]\n",
    "\n",
    "qXyf_difference = q_daily_open - yf_daily_open\n",
    "qXav_difference = q_daily_open - av_daily_open\n",
    "yfXav_difference = yf_daily_open - av_daily_open\n",
    "\n",
    "# Create the figure and subplots\n",
    "fig, (ax1, ax2, ax3) = plt.subplots(nrows=3, ncols=1, figsize=(9, 12))\n",
    "\n",
    "# Plot the differences\n",
    "qXyf_difference.plot(ax=ax1, title='Quandl vs Yahoo Finance (Open Price Difference)')\n",
    "qXav_difference.plot(ax=ax2, title='Quandl vs Alpha Vantage (Open Price Difference)')\n",
    "yfXav_difference.plot(ax=ax3, title='Yahoo Finance vs Alpha Vantage (Open Price Difference)')\n",
    "\n",
    "# Adjust the spacing between subplots\n",
    "plt.subplots_adjust(hspace=0.5)"
   ]
  },
  {
   "cell_type": "code",
   "execution_count": null,
   "id": "a063fb95-39b2-4c00-b32f-822bd7c62242",
   "metadata": {},
   "outputs": [],
   "source": [
    "q_monthly = q_daily_open.resample('M').last() # last is same as .apply(lambda x: x.iloc[-1])\n",
    "q_monthly.mean()"
   ]
  },
  {
   "cell_type": "code",
   "execution_count": null,
   "id": "946c43eb-728a-4ec7-96a0-91d818f78102",
   "metadata": {},
   "outputs": [],
   "source": [
    "yf_monthly = yf_daily_open.resample('M').last() # last is same as .apply(lambda x: x.iloc[-1])\n",
    "yf_monthly.mean()"
   ]
  },
  {
   "cell_type": "code",
   "execution_count": null,
   "id": "20bd855e-de12-426a-90c2-03b11af5fdaf",
   "metadata": {},
   "outputs": [],
   "source": [
    "av_monthly = av_daily_open.resample('M').last() # last is same as .apply(lambda x: x.iloc[-1])\n",
    "av_monthly.mean()"
   ]
  }
 ],
 "metadata": {
  "kernelspec": {
   "display_name": "base",
   "language": "python",
   "name": "python3"
  },
  "language_info": {
   "codemirror_mode": {
    "name": "ipython",
    "version": 3
   },
   "file_extension": ".py",
   "mimetype": "text/x-python",
   "name": "python",
   "nbconvert_exporter": "python",
   "pygments_lexer": "ipython3",
   "version": "3.10.13"
  }
 },
 "nbformat": 4,
 "nbformat_minor": 5
}
